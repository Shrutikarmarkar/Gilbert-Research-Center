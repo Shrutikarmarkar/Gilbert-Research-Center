{
  "nbformat": 4,
  "nbformat_minor": 0,
  "metadata": {
    "colab": {
      "provenance": []
    },
    "kernelspec": {
      "name": "python3",
      "display_name": "Python 3"
    },
    "language_info": {
      "name": "python"
    }
  },
  "cells": [
    {
      "cell_type": "markdown",
      "source": [
        "## Performing Binomial Distribution\n",
        " X-Ray taken in the Radiology department, 200 X-rays images taken per/day. Due to the instrumentation failure probability of defective image X-Ray or Noise Image X-Ray is 2% what is the probability of selecting the two or more Noise image X-ray. Find the suitable probability"
      ],
      "metadata": {
        "id": "jKDyaOsvhibS"
      }
    },
    {
      "cell_type": "code",
      "execution_count": null,
      "metadata": {
        "id": "yGzTQKQCgn3O"
      },
      "outputs": [],
      "source": [
        "#total x-ray taken per day\n",
        "n = 200\n",
        "\n",
        "#probability of defective/ noisy images\n",
        "p = 0.02   #(Consider it probability of success)"
      ]
    },
    {
      "cell_type": "markdown",
      "source": [
        "We need to find the probability of selecting the two or more Noise image X-ray. Which can be denoted as P(X>=2)"
      ],
      "metadata": {
        "id": "wrJvzqYah7Cb"
      }
    },
    {
      "cell_type": "code",
      "source": [
        "mean = n*p\n",
        "var = n*p*(1-p)\n",
        "print(\"Mean and Variance of the distribution are \" + str(mean) + \" and \" + str(var) + \" respectively\")"
      ],
      "metadata": {
        "colab": {
          "base_uri": "https://localhost:8080/"
        },
        "id": "I_sSkpA6kveX",
        "outputId": "1fea4fb4-51cb-4f99-92f1-c2a03ce8d37e"
      },
      "execution_count": null,
      "outputs": [
        {
          "output_type": "stream",
          "name": "stdout",
          "text": [
            "Mean and Variance of the distribution are 4.0 and 3.92 respectively\n"
          ]
        }
      ]
    },
    {
      "cell_type": "markdown",
      "source": [
        "To find the probability of getting at least two defective images, we can sum the probabilities for k=2 to k=200, or more conveniently, use the complement rule:\n",
        "\n",
        "P(X>=2) = 1 - P(X<2)"
      ],
      "metadata": {
        "id": "S3g3u49cnN9C"
      }
    },
    {
      "cell_type": "code",
      "source": [
        "# Denote p0 as probability of 0 defective image\n",
        "p0 = (1 - p) ** n\n",
        "p0"
      ],
      "metadata": {
        "id": "QUhTtqeUq1ka",
        "colab": {
          "base_uri": "https://localhost:8080/"
        },
        "outputId": "1a31b58a-45ee-44a5-e0c4-e4a8fe5cf09d"
      },
      "execution_count": null,
      "outputs": [
        {
          "output_type": "execute_result",
          "data": {
            "text/plain": [
              "0.0175879466057215"
            ]
          },
          "metadata": {},
          "execution_count": 6
        }
      ]
    },
    {
      "cell_type": "code",
      "source": [
        "# Denote p1 as probability of 1 defective image\n",
        "p1 = n * p * (1 - p) ** (n - 1)\n",
        "p1"
      ],
      "metadata": {
        "id": "kjGQ7KvBmCPI",
        "colab": {
          "base_uri": "https://localhost:8080/"
        },
        "outputId": "e21c8dce-9045-4c0a-f5ca-5e6295973369"
      },
      "execution_count": null,
      "outputs": [
        {
          "output_type": "execute_result",
          "data": {
            "text/plain": [
              "0.07178753716621021"
            ]
          },
          "metadata": {},
          "execution_count": 7
        }
      ]
    },
    {
      "cell_type": "code",
      "source": [
        "prob_greater_than_equal_to_2 = 1 - (p0 + p1)\n",
        "prob_greater_than_equal_to_2"
      ],
      "metadata": {
        "colab": {
          "base_uri": "https://localhost:8080/"
        },
        "id": "qdT3M8Q6qRbH",
        "outputId": "d81742bc-877e-4a41-fa1d-b66d8ee10b77"
      },
      "execution_count": null,
      "outputs": [
        {
          "output_type": "execute_result",
          "data": {
            "text/plain": [
              "0.9106245162280683"
            ]
          },
          "metadata": {},
          "execution_count": 8
        }
      ]
    },
    {
      "cell_type": "markdown",
      "source": [
        "The probability of selecting two or more noise image X-rays out of 200 is approximately 0.9106 (or 91.06%)."
      ],
      "metadata": {
        "id": "pQ78xPO5rVYg"
      }
    },
    {
      "cell_type": "code",
      "source": [],
      "metadata": {
        "id": "HyVGlO7yrKtN"
      },
      "execution_count": null,
      "outputs": []
    }
  ]
}