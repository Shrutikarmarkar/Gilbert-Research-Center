{
  "nbformat": 4,
  "nbformat_minor": 0,
  "metadata": {
    "colab": {
      "provenance": []
    },
    "kernelspec": {
      "name": "python3",
      "display_name": "Python 3"
    },
    "language_info": {
      "name": "python"
    }
  },
  "cells": [
    {
      "cell_type": "markdown",
      "source": [
        "**Linear Algera Assignment**"
      ],
      "metadata": {
        "id": "QfdbjWP4YBdJ"
      }
    },
    {
      "cell_type": "code",
      "source": [
        "import numpy as np"
      ],
      "metadata": {
        "id": "fw_iOlK_LLRD"
      },
      "execution_count": null,
      "outputs": []
    },
    {
      "cell_type": "code",
      "source": [
        "A = np.array([[1,1,0,0],[0,1,1,0],[0,0,1,1],[1,0,0,1]])\n",
        "B = np.array([[50],[30],[40],[60]])"
      ],
      "metadata": {
        "id": "631oShkYZ0yh"
      },
      "execution_count": null,
      "outputs": []
    },
    {
      "cell_type": "code",
      "source": [
        "X = np.array([[10],[40],[-10],[50]])"
      ],
      "metadata": {
        "id": "aKZ0uL5UadLQ"
      },
      "execution_count": null,
      "outputs": []
    },
    {
      "cell_type": "markdown",
      "source": [
        "## Finding Norm"
      ],
      "metadata": {
        "id": "qyxvSR9PbJDG"
      }
    },
    {
      "cell_type": "code",
      "source": [
        "X2 = 0\n",
        "for i in range (len(X)):\n",
        "  X2 = X2 + X[i]**2\n",
        "print(\"Euclideam Norm (L^2 Norm):\", X2**(1/2))"
      ],
      "metadata": {
        "colab": {
          "base_uri": "https://localhost:8080/"
        },
        "id": "G4U6k5b_ao2U",
        "outputId": "a5f122df-7349-463b-b231-534118f6281c"
      },
      "execution_count": null,
      "outputs": [
        {
          "output_type": "stream",
          "name": "stdout",
          "text": [
            "Euclideam Norm (L^2 Norm): [65.57438524]\n"
          ]
        }
      ]
    },
    {
      "cell_type": "code",
      "source": [
        "X1 = 0\n",
        "for i in range (len(X)):\n",
        "  X1 = X1 + abs(X[i])\n",
        "print(\"1 Norm:\", X1)"
      ],
      "metadata": {
        "colab": {
          "base_uri": "https://localhost:8080/"
        },
        "id": "PACv7eWbavMP",
        "outputId": "2907796a-e617-4e66-92b4-53914fbac4b8"
      },
      "execution_count": null,
      "outputs": [
        {
          "output_type": "stream",
          "name": "stdout",
          "text": [
            "1 Norm: [110]\n"
          ]
        }
      ]
    },
    {
      "cell_type": "code",
      "source": [
        "Xinf = max(X)\n",
        "print(\"Infinity Norm:\", Xinf)"
      ],
      "metadata": {
        "colab": {
          "base_uri": "https://localhost:8080/"
        },
        "id": "fuW4CeK2bLiy",
        "outputId": "509616a2-3ee0-4c39-d59d-f3886d22b8e6"
      },
      "execution_count": null,
      "outputs": [
        {
          "output_type": "stream",
          "name": "stdout",
          "text": [
            "Infinity Norm: [50]\n"
          ]
        }
      ]
    },
    {
      "cell_type": "markdown",
      "source": [
        "## Finding Rank of Matrix A and A|B"
      ],
      "metadata": {
        "id": "szWhcSNNbB4a"
      }
    },
    {
      "cell_type": "code",
      "source": [
        "A[3] = A[3]-A[0]    # R4-R1\n",
        "B[3] = B[3]-B[0]\n",
        "A,B"
      ],
      "metadata": {
        "id": "UoSoFGKXeSJi",
        "colab": {
          "base_uri": "https://localhost:8080/"
        },
        "outputId": "493f017f-1d91-4824-a5eb-4220601ebceb"
      },
      "execution_count": null,
      "outputs": [
        {
          "output_type": "execute_result",
          "data": {
            "text/plain": [
              "(array([[ 1,  1,  0,  0],\n",
              "        [ 0,  1,  1,  0],\n",
              "        [ 0,  0,  1,  1],\n",
              "        [ 0, -1,  0,  1]]),\n",
              " array([[50],\n",
              "        [30],\n",
              "        [40],\n",
              "        [10]]))"
            ]
          },
          "metadata": {},
          "execution_count": 32
        }
      ]
    },
    {
      "cell_type": "code",
      "source": [
        "A[3] = A[3]+A[1]    # R4+R2\n",
        "B[3] = B[3]+B[1]\n",
        "A,B"
      ],
      "metadata": {
        "colab": {
          "base_uri": "https://localhost:8080/"
        },
        "id": "CqVSRJ6PbTks",
        "outputId": "f92f7714-335d-4350-f532-1acdc5b4b916"
      },
      "execution_count": null,
      "outputs": [
        {
          "output_type": "execute_result",
          "data": {
            "text/plain": [
              "(array([[1, 1, 0, 0],\n",
              "        [0, 1, 1, 0],\n",
              "        [0, 0, 1, 1],\n",
              "        [0, 0, 1, 1]]),\n",
              " array([[50],\n",
              "        [30],\n",
              "        [40],\n",
              "        [40]]))"
            ]
          },
          "metadata": {},
          "execution_count": 33
        }
      ]
    },
    {
      "cell_type": "code",
      "source": [
        "A[3] = A[3]-A[2]    # R4-R3\n",
        "B[3] = B[3]-B[2]\n",
        "A,B"
      ],
      "metadata": {
        "colab": {
          "base_uri": "https://localhost:8080/"
        },
        "id": "gMgxOWO4bovU",
        "outputId": "427735e8-5816-45db-b765-76c8e45f2f15"
      },
      "execution_count": null,
      "outputs": [
        {
          "output_type": "execute_result",
          "data": {
            "text/plain": [
              "(array([[1, 1, 0, 0],\n",
              "        [0, 1, 1, 0],\n",
              "        [0, 0, 1, 1],\n",
              "        [0, 0, 0, 0]]),\n",
              " array([[50],\n",
              "        [30],\n",
              "        [40],\n",
              "        [ 0]]))"
            ]
          },
          "metadata": {},
          "execution_count": 34
        }
      ]
    },
    {
      "cell_type": "markdown",
      "source": [
        "As there are 3 non zero rows in both A and A|B Matrix therefore:\n",
        "**Rank A = Rank A|B = 3**"
      ],
      "metadata": {
        "id": "pysdfNpCbx__"
      }
    },
    {
      "cell_type": "markdown",
      "source": [
        "##  Rank-Nullity of matrix"
      ],
      "metadata": {
        "id": "kf2GFg19cdpX"
      }
    },
    {
      "cell_type": "code",
      "source": [
        "columns = 4\n",
        "Rank_A = 3\n",
        "print(\" Rank-Nullity of matrix = \",columns-Rank_A)"
      ],
      "metadata": {
        "colab": {
          "base_uri": "https://localhost:8080/"
        },
        "id": "FVEGVFEebttZ",
        "outputId": "0abdf2b9-f046-428c-a581-454dd56cc4d2"
      },
      "execution_count": null,
      "outputs": [
        {
          "output_type": "stream",
          "name": "stdout",
          "text": [
            " Rank-Nullity of matrix =  1\n"
          ]
        }
      ]
    },
    {
      "cell_type": "code",
      "source": [],
      "metadata": {
        "id": "6VNoVx7Jc4L4"
      },
      "execution_count": null,
      "outputs": []
    }
  ]
}